{
  "nbformat": 4,
  "nbformat_minor": 0,
  "metadata": {
    "colab": {
      "provenance": []
    },
    "kernelspec": {
      "name": "python3",
      "display_name": "Python 3"
    },
    "language_info": {
      "name": "python"
    }
  },
  "cells": [
    {
      "cell_type": "code",
      "execution_count": 13,
      "metadata": {
        "id": "4-o7TC2QrHrC"
      },
      "outputs": [],
      "source": [
        "\n",
        "import numpy as np\n",
        "from sklearn.model_selection import train_test_split\n",
        "from sklearn.metrics import accuracy_score\n"
      ]
    },
    {
      "cell_type": "code",
      "source": [
        "class SVM:\n",
        "    def __init__(self, learning_rate=0.01, lambda_param=0.01, n_iters=1000):\n",
        "        self.lr = learning_rate\n",
        "        self.lambda_param = lambda_param\n",
        "        self.n_iters = n_iters\n",
        "        self.w = None\n",
        "        self.b = None\n",
        "        \n",
        "    def fit(self, X, y):\n",
        "        n_samples, n_features = X.shape\n",
        "        \n",
        "        y_ = np.where(y <= 0, -1, 1)\n",
        "        \n",
        "        self.w = np.zeros(n_features)\n",
        "        self.b = 0\n",
        "        \n",
        "        for _ in range(self.n_iters):\n",
        "            for idx, x_i in enumerate(X):\n",
        "                condition = y_[idx] * (np.dot(x_i, self.w) - self.b) >= 1\n",
        "                if condition:\n",
        "                    self.w -= self.lr * (2 * self.lambda_param * self.w)\n",
        "                else:\n",
        "                    self.w -= self.lr * (2 * self.lambda_param * self.w - np.dot(x_i, y_[idx]))\n",
        "                    self.b -= self.lr * y_[idx]\n",
        "                    \n",
        "    def predict(self, X):\n",
        "        approx = np.dot(X, self.w) - self.b\n",
        "        return np.where(approx <= 0, 0, 1)"
      ],
      "metadata": {
        "id": "_QMDIpODrtU1"
      },
      "execution_count": 14,
      "outputs": []
    },
    {
      "cell_type": "code",
      "source": [
        "# load diabetes dataset\n",
        "diabetes_data = np.loadtxt(\"diabetes.csv\", delimiter=\",\", skiprows=1)"
      ],
      "metadata": {
        "id": "FDIa_mk2rxB1"
      },
      "execution_count": 15,
      "outputs": []
    },
    {
      "cell_type": "code",
      "source": [
        "# split data into features and target variable\n",
        "X = diabetes_data[:, :-1]\n",
        "y = diabetes_data[:, -1]"
      ],
      "metadata": {
        "id": "msRU6wtir72l"
      },
      "execution_count": 16,
      "outputs": []
    },
    {
      "cell_type": "code",
      "source": [
        "# split data into training and testing sets\n",
        "X_train, X_test, y_train, y_test = train_test_split(X, y, test_size=0.2, random_state=42)\n"
      ],
      "metadata": {
        "id": "6oaE6OnSr-QR"
      },
      "execution_count": 17,
      "outputs": []
    },
    {
      "cell_type": "code",
      "source": [
        "# standardize the data\n",
        "X_train_mean = np.mean(X_train, axis=0)\n",
        "X_train_std = np.std(X_train, axis=0)\n",
        "X_train = (X_train - X_train_mean) / X_train_std\n",
        "X_test = (X_test - X_train_mean) / X_train_std"
      ],
      "metadata": {
        "id": "N-jjk-IqsDGm"
      },
      "execution_count": 18,
      "outputs": []
    },
    {
      "cell_type": "code",
      "source": [
        "\n",
        "# train the SVM model\n",
        "svm = SVM()\n",
        "svm.fit(X_train, y_train)"
      ],
      "metadata": {
        "id": "cVTzK5k5r-Zx"
      },
      "execution_count": 19,
      "outputs": []
    },
    {
      "cell_type": "code",
      "source": [
        "# make predictions on the testing set\n",
        "y_pred = svm.predict(X_test)"
      ],
      "metadata": {
        "id": "QzwHH3yesLtu"
      },
      "execution_count": 20,
      "outputs": []
    },
    {
      "cell_type": "code",
      "source": [
        "# calculate accuracy of the model\n",
        "accuracy = accuracy_score(y_test, y_pred)\n",
        "print(\"Accuracy:\", accuracy)"
      ],
      "metadata": {
        "colab": {
          "base_uri": "https://localhost:8080/"
        },
        "id": "Vh5yO3dPsY7w",
        "outputId": "b8fa8675-7991-48e7-9968-5b506a886358"
      },
      "execution_count": 21,
      "outputs": [
        {
          "output_type": "stream",
          "name": "stdout",
          "text": [
            "Accuracy: 0.7597402597402597\n"
          ]
        }
      ]
    },
    {
      "cell_type": "code",
      "source": [
        "# count the number of 0's and 1's in the last column\n",
        "count_0 = np.count_nonzero(diabetes_data[:, -1] == 0)\n",
        "count_1 = np.count_nonzero(diabetes_data[:, -1] == 1)\n",
        "\n",
        "print(\"Non-Diabetic:\", count_0)\n",
        "print(\"Diabetic:\", count_1)"
      ],
      "metadata": {
        "colab": {
          "base_uri": "https://localhost:8080/"
        },
        "id": "ifRTS5LB5tg-",
        "outputId": "1398c87b-934b-483a-d7d0-989e53a06c0e"
      },
      "execution_count": 22,
      "outputs": [
        {
          "output_type": "stream",
          "name": "stdout",
          "text": [
            "Non-Diabetic: 500\n",
            "Diabetic: 268\n"
          ]
        }
      ]
    },
    {
      "cell_type": "code",
      "source": [
        "# predict on new input instance\n",
        "new_instance = np.array([11,143,94,33,146,36.6,0.254,51])\n",
        "new_instance = (new_instance - X_train_mean) / X_train_std\n",
        "prediction = svm.predict(new_instance.reshape(1,-1))\n",
        "#print(\"Prediction:\", prediction[0])\n",
        "if prediction[0] == 0:\n",
        "    print(\"The person is non-diabetic\")\n",
        "else:\n",
        "    print(\"The person is diabetic\")"
      ],
      "metadata": {
        "id": "RCVFTuOf8dh3",
        "colab": {
          "base_uri": "https://localhost:8080/"
        },
        "outputId": "6f729826-df90-40af-e749-67a34c8d59e5"
      },
      "execution_count": 28,
      "outputs": [
        {
          "output_type": "stream",
          "name": "stdout",
          "text": [
            "The person is diabetic\n"
          ]
        }
      ]
    }
  ]
}