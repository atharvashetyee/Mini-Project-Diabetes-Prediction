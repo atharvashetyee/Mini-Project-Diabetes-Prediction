{
  "nbformat": 4,
  "nbformat_minor": 0,
  "metadata": {
    "colab": {
      "provenance": []
    },
    "kernelspec": {
      "name": "python3",
      "display_name": "Python 3"
    },
    "language_info": {
      "name": "python"
    }
  },
  "cells": [
    {
      "cell_type": "code",
      "source": [
        "import numpy as np\n",
        "from sklearn.model_selection import train_test_split\n",
        "from sklearn.metrics import accuracy_score"
      ],
      "metadata": {
        "id": "UrAFYBeLDoNE"
      },
      "execution_count": null,
      "outputs": []
    },
    {
      "cell_type": "code",
      "source": [
        "class NaiveBayes:\n",
        "    def __init__(self):\n",
        "        self.prior = None\n",
        "        self.mean = None\n",
        "        self.variance = None\n",
        "        \n",
        "    def fit(self, X, y):\n",
        "        n_samples, n_features = X.shape\n",
        "        \n",
        "        self.prior = {}\n",
        "        self.mean = {}\n",
        "        self.variance = {}\n",
        "        \n",
        "        for c in np.unique(y):\n",
        "            X_c = X[c == y]\n",
        "            self.prior[c] = X_c.shape[0] / n_samples\n",
        "            self.mean[c] = np.mean(X_c, axis=0)\n",
        "            self.variance[c] = np.var(X_c, axis=0)\n",
        "        \n",
        "    def predict(self, X):\n",
        "        y_pred = []\n",
        "        for x in X:\n",
        "            posterior = {}\n",
        "            for c in self.prior:\n",
        "                prior = np.log(self.prior[c])\n",
        "                class_conditional = np.sum(np.log(self.normal_pdf(x, self.mean[c], self.variance[c])))\n",
        "                posterior[c] = prior + class_conditional\n",
        "            y_pred.append(max(posterior, key=posterior.get))\n",
        "        return np.array(y_pred)\n",
        "    \n",
        "    def normal_pdf(self, x, mean, var):\n",
        "        return 1 / np.sqrt(2 * np.pi * var) * np.exp(-(x - mean)**2 / (2 * var))\n",
        "    "
      ],
      "metadata": {
        "id": "mjsR9ZBSDsl1"
      },
      "execution_count": null,
      "outputs": []
    },
    {
      "cell_type": "code",
      "source": [
        "# load diabetes dataset\n",
        "diabetes_data = np.loadtxt(\"diabetes.csv\", delimiter=\",\", skiprows=1)"
      ],
      "metadata": {
        "id": "IyPHTfYcDwbe"
      },
      "execution_count": null,
      "outputs": []
    },
    {
      "cell_type": "code",
      "source": [
        "# split data into features and target variable\n",
        "X = diabetes_data[:, :-1]\n",
        "y = diabetes_data[:, -1]"
      ],
      "metadata": {
        "id": "p0yzZvViI3bB"
      },
      "execution_count": null,
      "outputs": []
    },
    {
      "cell_type": "code",
      "source": [
        "# split data into training and testing sets\n",
        "X_train, X_test, y_train, y_test = train_test_split(X, y, test_size=0.2, random_state=42)"
      ],
      "metadata": {
        "id": "wLVvRcZqI96B"
      },
      "execution_count": null,
      "outputs": []
    },
    {
      "cell_type": "code",
      "source": [
        "# standardize the data\n",
        "X_train_mean = np.mean(X_train, axis=0)\n",
        "X_train_std = np.std(X_train, axis=0)\n",
        "X_train = (X_train - X_train_mean) / X_train_std\n",
        "X_test = (X_test - X_train_mean) / X_train_std"
      ],
      "metadata": {
        "id": "0qEka08sI_qK"
      },
      "execution_count": null,
      "outputs": []
    },
    {
      "cell_type": "code",
      "source": [
        "# train the Naive Bayes model\n",
        "nb = NaiveBayes()\n",
        "nb.fit(X_train, y_train)"
      ],
      "metadata": {
        "id": "W61VQgtAJCYw"
      },
      "execution_count": null,
      "outputs": []
    },
    {
      "cell_type": "code",
      "source": [
        "# make predictions on the testing set\n",
        "y_pred = nb.predict(X_test)"
      ],
      "metadata": {
        "id": "j0pET6yDJFYv"
      },
      "execution_count": null,
      "outputs": []
    },
    {
      "cell_type": "code",
      "source": [
        "# calculate accuracy of the model\n",
        "accuracy = accuracy_score(y_test, y_pred)\n",
        "print(\"Accuracy:\", accuracy)"
      ],
      "metadata": {
        "colab": {
          "base_uri": "https://localhost:8080/"
        },
        "id": "KHRACjl2JHL9",
        "outputId": "2c43bcc4-2ef1-41ef-94f8-a7ebe7dcce54"
      },
      "execution_count": null,
      "outputs": [
        {
          "output_type": "stream",
          "name": "stdout",
          "text": [
            "Accuracy: 0.7662337662337663\n"
          ]
        }
      ]
    },
    {
      "cell_type": "code",
      "source": [
        "# count the number of 0's and 1's in the last column\n",
        "count_0 = np.count_nonzero(diabetes_data[:, -1] == 0)\n",
        "count_1 = np.count_nonzero(diabetes_data[:, -1] == 1)\n",
        "\n",
        "print(\"Total Number of Non-Diabetic Persons:\", count_0)\n",
        "print(\"Total Number of Diabetic Persons:\", count_1)"
      ],
      "metadata": {
        "colab": {
          "base_uri": "https://localhost:8080/"
        },
        "id": "oKIXc4p-JJFj",
        "outputId": "25ea496c-81f5-4b4c-df30-d30487c98367"
      },
      "execution_count": null,
      "outputs": [
        {
          "output_type": "stream",
          "name": "stdout",
          "text": [
            "Total Number of Non-Diabetic Persons: 500\n",
            "Total Number of Diabetic Persons: 268\n"
          ]
        }
      ]
    },
    {
      "cell_type": "code",
      "source": [
        "# predict whether a new input corresponds to a diabetic or non-diabetic person\n",
        "new_input = np.array([2,197,70,45,543,30.5,0.158,53])\n",
        "new_input_norm = (new_input - X_train_mean) / X_train_std\n",
        "prediction = nb.predict(np.array([new_input_norm]))\n",
        "if prediction[0] == 0:\n",
        "    print(\"The person is non-diabetic\")\n",
        "else:\n",
        "    print(\"The person is diabetic\")"
      ],
      "metadata": {
        "colab": {
          "base_uri": "https://localhost:8080/"
        },
        "id": "ElIEkPesJVXZ",
        "outputId": "914c612c-551b-42e6-861d-8d6fa88ac43d"
      },
      "execution_count": null,
      "outputs": [
        {
          "output_type": "stream",
          "name": "stdout",
          "text": [
            "The person is diabetic\n"
          ]
        }
      ]
    },
    {
      "cell_type": "code",
      "source": [],
      "metadata": {
        "id": "MpIdSIZKJaOK"
      },
      "execution_count": null,
      "outputs": []
    }
  ]
}